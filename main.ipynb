{
 "cells": [
  {
   "cell_type": "code",
   "execution_count": 2,
   "metadata": {},
   "outputs": [],
   "source": [
    "import pandas as pd\n",
    "import matplotlib.pyplot as mpl\n",
    "import gradio as gr"
   ]
  },
  {
   "cell_type": "code",
   "execution_count": 3,
   "metadata": {},
   "outputs": [],
   "source": [
    "def GUI_data(data_fram):\n",
    "    tab_data = pd.read_csv(data_fram)\n",
    "\n",
    "    # fonction de plot \n",
    "    def ploting_col(col):\n",
    "        col = tab_data[col]\n",
    "        fig, ax = mpl.subplots()\n",
    "        indx = list(col.index)\n",
    "        ax.bar(x=indx, height=col)\n",
    "        ax.set(\n",
    "            title=f\"Visualisation de {col.name}\",\n",
    "            xlabel=\"index\",\n",
    "            ylabel=f\"{col.name}\"\n",
    "            )\n",
    "        return fig\n",
    "\n",
    "    # fonction de filter \n",
    "    def filtrer(filtre_col, filtre_val):\n",
    "        data_filtre = tab_data[tab_data[filtre_col] == float(filtre_val)]\n",
    "        return data_filtre\n",
    "\n",
    "\n",
    "    colonnes = list(tab_data.columns)\n",
    "\n",
    "    # GUI de plot\n",
    "    ploting_if = gr.Interface(\n",
    "        fn=ploting_col,\n",
    "        inputs=gr.inputs.Dropdown(colonnes),\n",
    "        outputs=\"plot\",\n",
    "        title=\"Visualisation Interactive des Données\",\n",
    "        description=\"Sélectionnez une colonne à visualiser\"\n",
    "    )\n",
    "    \n",
    "    # GUI de filtrage \n",
    "    filtres_if = gr.Interface(\n",
    "        fn=filtrer,\n",
    "        inputs=[gr.inputs.Dropdown(colonnes), \"text\"],\n",
    "        outputs=\"dataframe\",\n",
    "        title=\"Appliquer des Filtres\",\n",
    "        description=\"Sélectionnez une colonne et saisissez une valeur de filtre\",\n",
    "        )\n",
    "\n",
    "    ploting_if.launch()\n",
    "    filtres_if.launch()"
   ]
  },
  {
   "cell_type": "code",
   "execution_count": 4,
   "metadata": {},
   "outputs": [],
   "source": [
    "data = \"Titanic.csv\""
   ]
  },
  {
   "cell_type": "code",
   "execution_count": 63,
   "metadata": {},
   "outputs": [
    {
     "name": "stderr",
     "output_type": "stream",
     "text": [
      "/home/kali/.local/lib/python3.10/site-packages/gradio/inputs.py:217: UserWarning: Usage of gradio.inputs is deprecated, and will not be supported in the future, please import your component from gradio.components\n",
      "  warnings.warn(\n",
      "/home/kali/.local/lib/python3.10/site-packages/gradio/deprecation.py:40: UserWarning: `optional` parameter is deprecated, and it has no effect\n",
      "  warnings.warn(value)\n"
     ]
    },
    {
     "name": "stdout",
     "output_type": "stream",
     "text": [
      "Running on local URL:  http://127.0.0.1:7876\n",
      "\n",
      "To create a public link, set `share=True` in `launch()`.\n"
     ]
    },
    {
     "data": {
      "text/html": [
       "<div><iframe src=\"http://127.0.0.1:7876/\" width=\"100%\" height=\"500\" allow=\"autoplay; camera; microphone; clipboard-read; clipboard-write;\" frameborder=\"0\" allowfullscreen></iframe></div>"
      ],
      "text/plain": [
       "<IPython.core.display.HTML object>"
      ]
     },
     "metadata": {},
     "output_type": "display_data"
    },
    {
     "name": "stdout",
     "output_type": "stream",
     "text": [
      "Running on local URL:  http://127.0.0.1:7877\n",
      "\n",
      "To create a public link, set `share=True` in `launch()`.\n"
     ]
    },
    {
     "data": {
      "text/html": [
       "<div><iframe src=\"http://127.0.0.1:7877/\" width=\"100%\" height=\"500\" allow=\"autoplay; camera; microphone; clipboard-read; clipboard-write;\" frameborder=\"0\" allowfullscreen></iframe></div>"
      ],
      "text/plain": [
       "<IPython.core.display.HTML object>"
      ]
     },
     "metadata": {},
     "output_type": "display_data"
    }
   ],
   "source": [
    "GUI_data(data)"
   ]
  }
 ],
 "metadata": {
  "kernelspec": {
   "display_name": "Python 3.10.8 64-bit",
   "language": "python",
   "name": "python3"
  },
  "language_info": {
   "codemirror_mode": {
    "name": "ipython",
    "version": 3
   },
   "file_extension": ".py",
   "mimetype": "text/x-python",
   "name": "python",
   "nbconvert_exporter": "python",
   "pygments_lexer": "ipython3",
   "version": "3.10.8"
  },
  "orig_nbformat": 4,
  "vscode": {
   "interpreter": {
    "hash": "e7370f93d1d0cde622a1f8e1c04877d8463912d04d973331ad4851f04de6915a"
   }
  }
 },
 "nbformat": 4,
 "nbformat_minor": 2
}
